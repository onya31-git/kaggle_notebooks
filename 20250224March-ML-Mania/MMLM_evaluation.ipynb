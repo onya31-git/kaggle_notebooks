{
 "cells": [
  {
   "cell_type": "code",
   "execution_count": null,
   "metadata": {},
   "outputs": [
    {
     "name": "stdout",
     "output_type": "stream",
     "text": [
      "試合結果のカラム: Index(['Season', 'DayNum', 'WTeamID', 'WScore', 'LTeamID', 'LScore', 'WLoc',\n",
      "       'NumOT'],\n",
      "      dtype='object')\n",
      "予測結果のカラム: Index(['ID', 'pred'], dtype='object')\n",
      "Brier Score: 0.31067868796250325\n"
     ]
    }
   ],
   "source": [
    "import pandas as pd\n",
    "import numpy as np\n",
    "from sklearn.metrics import brier_score_loss\n",
    "\n",
    "# データの読み込み\n",
    "DATA_PATH = \"./data/\"\n",
    "results_M_df = pd.read_csv(DATA_PATH + \"MRegularSeasonCompactResults.csv\")\n",
    "results_W_df = pd.read_csv(DATA_PATH + \"WRegularSeasonCompactResults.csv\")\n",
    "results_df =pd.concat([results_M_df, results_W_df], axis=0)\n",
    "predictions_df = pd.read_csv(\"./MMLM_m3_output/\" + \"submissionStage1.csv\")\n",
    "\n",
    "# 必要なカラムを確認\n",
    "print(\"試合結果のカラム:\", results_df.columns)\n",
    "print(\"予測結果のカラム:\", predictions_df.columns)\n",
    "\n",
    "# 試合結果のデータ処理\n",
    "# 'WTeamID' (勝利チーム) と 'LTeamID' (敗北チーム) から試合のキーを作成\n",
    "results_df['GameID'] = results_df.apply(lambda row: f\"{row['Season']}_{min(row['WTeamID'], row['LTeamID'])}_{max(row['WTeamID'], row['LTeamID'])}\", axis=1)\n",
    "\n",
    "# 勝者が WTeamID なら 1、LTeamID なら 0 のターゲットを作成\n",
    "results_df['Result'] = results_df.apply(lambda row: 1 if row['WTeamID'] < row['LTeamID'] else 0, axis=1)\n",
    "\n",
    "# 予測データの処理\n",
    "predictions_df.rename(columns={'ID': 'GameID'}, inplace=True)\n",
    "\n",
    "# 試合結果と予測をマージ\n",
    "merged_df = results_df.merge(predictions_df, on='GameID', how='inner')\n",
    "merged_df['pred'] = merged_df['pred'].clip(0, 1)\n",
    "\n",
    "# Brier スコアを計算\n",
    "brier_score = brier_score_loss(merged_df['Result'], merged_df['pred'])\n",
    "\n",
    "print(f\"Brier Score: {brier_score}\")\n"
   ]
  },
  {
   "cell_type": "code",
   "execution_count": null,
   "metadata": {},
   "outputs": [
    {
     "name": "stdout",
     "output_type": "stream",
     "text": [
      "予測値の最大値: 1.0138072034831735\n",
      "予測値の最小値: -0.0127849271919331\n",
      "           GameID      pred\n",
      "0  2021_1101_1102  0.319430\n",
      "1  2021_1101_1103  0.253045\n",
      "2  2021_1101_1104  0.282571\n",
      "3  2021_1101_1105  0.320934\n",
      "4  2021_1101_1106  0.319781\n",
      "5  2021_1101_1107  0.314741\n",
      "6  2021_1101_1108  0.319123\n",
      "7  2021_1101_1110  0.320276\n",
      "8  2021_1101_1111  0.390357\n",
      "9  2021_1101_1112  0.289523\n"
     ]
    }
   ],
   "source": [
    "# 予測値が正しくクリップされているか確認\n",
    "\n",
    "print(f\"予測値の最大値: {predictions_df['pred'].max()}\")\n",
    "print(f\"予測値の最小値: {predictions_df['pred'].min()}\")\n",
    "print(predictions_df[['GameID', 'pred']].head(10))  # 予測値のサンプルを確認\n"
   ]
  }
 ],
 "metadata": {
  "kernelspec": {
   "display_name": "base",
   "language": "python",
   "name": "python3"
  },
  "language_info": {
   "codemirror_mode": {
    "name": "ipython",
    "version": 3
   },
   "file_extension": ".py",
   "mimetype": "text/x-python",
   "name": "python",
   "nbconvert_exporter": "python",
   "pygments_lexer": "ipython3",
   "version": "3.12.9"
  }
 },
 "nbformat": 4,
 "nbformat_minor": 2
}
